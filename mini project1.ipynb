{
 "cells": [
  {
   "cell_type": "code",
   "execution_count": null,
   "id": "29e8d9ee-e698-4b0f-a5f2-5c4366601735",
   "metadata": {},
   "outputs": [],
   "source": [
    "import tkinter as tk\n",
    "from tkinter import messagebox\n",
    "\n",
    "# Hardcoded credentials (for demo)\n",
    "USERNAME = \"admin\"\n",
    "PASSWORD = \"12345\"\n",
    "\n",
    "# Function to handle login\n",
    "def login():\n",
    "    user = username_entry.get()\n",
    "    pwd = password_entry.get()\n",
    "    \n",
    "    if user == USERNAME and pwd == PASSWORD:\n",
    "        messagebox.showinfo(\"Login Success\", f\"Welcome, {user}!\")\n",
    "    else:\n",
    "        messagebox.showerror(\"Login Failed\", \"Invalid username or password.\")\n",
    "\n",
    "# Create main window\n",
    "root = tk.Tk()\n",
    "root.title(\"Login Form\")\n",
    "root.geometry(\"300x200\")\n",
    "root.resizable(False, False)\n",
    "\n",
    "# Username Label and Entry\n",
    "tk.Label(root, text=\"Username\").pack(pady=5)\n",
    "username_entry = tk.Entry(root)\n",
    "username_entry.pack()\n",
    "\n",
    "# Password Label and Entry\n",
    "tk.Label(root, text=\"Password\").pack(pady=5)\n",
    "password_entry = tk.Entry(root, show=\"*\")\n",
    "password_entry.pack()\n",
    "\n",
    "# Login Button\n",
    "tk.Button(root, text=\"Login\", command=login).pack(pady=20)\n",
    "\n",
    "# Run the GUI loop\n",
    "root.mainloop()\n"
   ]
  },
  {
   "cell_type": "code",
   "execution_count": null,
   "id": "56ea6472-df8d-44d7-8979-2cf05c84533f",
   "metadata": {},
   "outputs": [],
   "source": []
  }
 ],
 "metadata": {
  "kernelspec": {
   "display_name": "Python [conda env:base] *",
   "language": "python",
   "name": "conda-base-py"
  },
  "language_info": {
   "codemirror_mode": {
    "name": "ipython",
    "version": 3
   },
   "file_extension": ".py",
   "mimetype": "text/x-python",
   "name": "python",
   "nbconvert_exporter": "python",
   "pygments_lexer": "ipython3",
   "version": "3.13.5"
  }
 },
 "nbformat": 4,
 "nbformat_minor": 5
}
